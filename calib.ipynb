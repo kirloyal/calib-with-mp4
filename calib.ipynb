{
 "cells": [
  {
   "cell_type": "code",
   "execution_count": 1,
   "metadata": {},
   "outputs": [],
   "source": [
    "import cv2\n",
    "import numpy as np\n",
    "from collections import deque\n",
    "import pickle\n",
    "import dill\n",
    "\n",
    "# lsFilename, outfile = ['video/190502_00-002.mp4'], 'cam00.txt'\n",
    "lsFilename, outfile = ['video/190502_01-003.mp4'], 'cam01.txt'\n",
    "# lsFilename, outfile = ['video/190502_02-004.mp4'], 'cam02.txt'\n",
    "# lsFilename, outfile = ['video/190502_03-005.mp4'], 'cam03.txt'\n",
    "# lsFilename, outfile = ['video/190502_04-007.mp4'], 'cam04.txt'\n",
    "# lsFilename, outfile = ['video/190502_05-008.mp4'], 'cam05.txt'\n",
    "# lsFilename, outfile = ['video/190502_06-009.mp4'], 'cam06.txt'\n",
    "# lsFilename, outfile = ['video/190502_07-010.mp4'], 'cam07.txt'\n",
    "# lsFilename, outfile = ['video/190502_08-011.mp4'], 'cam08.txt'\n",
    "# lsFilename, outfile = ['video/190502_09-012.mp4'], 'cam09.txt'\n",
    "# lsFilename, outfile = ['video/190502_10-014.mp4'], 'cam10.txt'\n",
    "# lsFilename, outfile = ['video/190502_11-015.mp4'], 'cam11.txt'\n",
    "\n",
    "nFrame4calib = 100\n",
    "bShow = True\n",
    "# bShow = False\n",
    "bRandomSample = True\n",
    "# bRandomSample = False\n",
    "# delay = 150\n",
    "delay = 10\n",
    "# delay = 0\n",
    "\n",
    "nCorners = (5,7)\n",
    "\n",
    "criteria = (cv2.TERM_CRITERIA_EPS + cv2.TERM_CRITERIA_MAX_ITER, 30, 0.001)\n",
    "\n",
    "objp = np.zeros((nCorners[0]*nCorners[1],3), np.float32)\n",
    "objp[:,:2] = np.mgrid[0:nCorners[0],0:nCorners[1]].T.reshape(-1,2) * 0.0288\n",
    "\n",
    "objpoints = [] # 3d point in real world space\n",
    "imgpoints = [] # 2d points in image plane.\n",
    "frames = []\n",
    "\n",
    "valid_frames = []\n",
    "valid_grays = []\n",
    "valid_corners = []"
   ]
  },
  {
   "cell_type": "code",
   "execution_count": 2,
   "metadata": {},
   "outputs": [
    {
     "name": "stdout",
     "output_type": "stream",
     "text": [
      "total : 541\n"
     ]
    }
   ],
   "source": [
    "nFrame = 0\n",
    "for filename in lsFilename:\n",
    "    cap = cv2.VideoCapture(filename)\n",
    "    if (cap.isOpened()== False): \n",
    "        print(\"Error opening video stream or file\")\n",
    "\n",
    "    nFrame += int(cap.get(cv2.CAP_PROP_FRAME_COUNT))\n",
    "print 'total :',nFrame"
   ]
  },
  {
   "cell_type": "code",
   "execution_count": 3,
   "metadata": {
    "scrolled": true
   },
   "outputs": [
    {
     "name": "stdout",
     "output_type": "stream",
     "text": [
      "video/190502_01-003.mp4\n",
      "1 2 3 4 5 6 7 8 9 10 11 12 13 14 15 16 17 18 19 20 21 22 23 24 25 26 27 28 29 30 31 32 33 34 35 36 37 38 39 40 41 42 43 44 45 46 47 48 49 50 51 52 53 54 55 56 57 58 59 60 61 62 63 64 65 66 67 68 69 70 71 72 73 74 75 76 77 78 79 80 find! 1 81 find! 2 82 find! 3 83 find! 4 84 find! 5 85 find! 6 86 find! 7 87 find! 8 88 find! 9 89 find! 10 90 find! 11 91 find! 12 92 find! 13 93 find! 14 94 find! 15 95 96 97 98 99 100 101 102 103 104 105 106 107 108 109 110 111 112 113 114 115 116 117 118 119 120 121 122 123 124 125 126 find! 16 127 find! 17 128 find! 18 129 find! 19 130 find! 20 131 find! 21 132 find! 22 133 find! 23 134 find! 24 135 find! 25 136 137 138 139 140 141 142 143 144 145 146 147 148 149 150 151 152 153 154 155 find! 26 156 find! 27 157 find! 28 158 find! 29 159 find! 30 160 find! 31 161 find! 32 162 163 164 165 166 167 168 169 170 171 172 173 174 175 176 177 178 179 180 181 find! 33 182 find! 34 183 find! 35 184 find! 36 185 find! 37 186 find! 38 187 find! 39 188 find! 40 189 find! 41 190 find! 42 191 find! 43 192 find! 44 193 194 195 find! 45 196 find! 46 197 find! 47 198 find! 48 199 find! 49 200 find! 50 201 find! 51 202 find! 52 203 find! 53 204 find! 54 205 find! 55 206 find! 56 207 find! 57 208 find! 58 209 find! 59 210 find! 60 211 find! 61 212 find! 62 213 find! 63 214 find! 64 215 find! 65 216 find! 66 217 find! 67 218 find! 68 219 find! 69 220 find! 70 221 find! 71 222 find! 72 223 find! 73 224 find! 74 225 find! 75 226 227 228 229 230 231 232 233 234 235 236 237 238 239 240 241 242 243 244 245 find! 76 246 247 248 249 250 251 252 253 254 255 256 257 258 259 260 261 262 263 264 265 266 267 268 269 270 271 272 273 274 275 276 277 278 279 280 281 282 283 284 285 286 287 288 289 290 291 292 293 294 295 296 297 298 299 300 301 302 303 304 305 306 307 308 309 310 311 312 313 314 315 316 317 318 319 320 321 322 323 324 325 326 327 328 329 330 331 332 333 334 335 336 337 338 339 340 341 342 343 344 345 346 347 348 349 350 351 352 353 354 355 356 find! 77 357 find! 78 358 find! 79 359 find! 80 360 find! 81 361 find! 82 362 find! 83 363 find! 84 364 find! 85 365 find! 86 366 find! 87 367 find! 88 368 find! 89 369 find! 90 370 find! 91 371 find! 92 372 find! 93 373 find! 94 374 find! 95 375 find! 96 376 find! 97 377 find! 98 378 find! 99 379 find! 100 380 find! 101 381 find! 102 382 find! 103 383 find! 104 384 find! 105 385 find! 106 386 find! 107 387 find! 108 388 find! 109 389 find! 110 390 find! 111 391 find! 112 392 find! 113 393 find! 114 394 find! 115 395 find! 116 396 find! 117 397 find! 118 398 find! 119 399 find! 120 400 find! 121 401 find! 122 402 find! 123 403 find! 124 404 find! 125 405 find! 126 406 find! 127 407 find! 128 408 find! 129 409 find! 130 410 find! 131 411 find! 132 412 find! 133 413 find! 134 414 415 416 417 418 419 420 421 422 423 424 425 426 427 428 find! 135 429 find! 136 430 find! 137 431 find! 138 432 find! 139 433 find! 140 434 find! 141 435 find! 142 436 find! 143 437 find! 144 438 find! 145 439 find! 146 440 find! 147 441 find! 148 442 find! 149 443 find! 150 444 find! 151 445 find! 152 446 find! 153 447 find! 154 448 find! 155 449 find! 156 450 find! 157 451 find! 158 452 find! 159 453 find! 160 454 find! 161 455 456 457 458 459 460 461 462 463 464 465 466 467 468 469 470 471 472 473 474 475 476 477 478 479 480 481 482 483 484 485 486 487 488 489 490 491 492 493 494 495 496 497 498 499 500 501 502 503 504 505 506 507 508 509 510 511 512 513 514 515 516 517 518 519 520 521 522 523 524 525 526 527 528 529 530 531 532 533 534 535 536 537 538 539 540 541\n",
      "Detected 161 frames\n"
     ]
    },
    {
     "ename": "PicklingError",
     "evalue": "Can't pickle <type 'cv2.VideoCapture'>: it's not the same object as cv2.VideoCapture",
     "output_type": "error",
     "traceback": [
      "\u001b[0;31m---------------------------------------------------------------------------\u001b[0m",
      "\u001b[0;31mPicklingError\u001b[0m                             Traceback (most recent call last)",
      "\u001b[0;32m<ipython-input-3-1a11803365e7>\u001b[0m in \u001b[0;36m<module>\u001b[0;34m()\u001b[0m\n\u001b[1;32m     33\u001b[0m \u001b[0;34m\u001b[0m\u001b[0m\n\u001b[1;32m     34\u001b[0m \u001b[0mfilename\u001b[0m \u001b[0;34m=\u001b[0m \u001b[0;34m'globalsave1.pkl'\u001b[0m\u001b[0;34m\u001b[0m\u001b[0m\n\u001b[0;32m---> 35\u001b[0;31m \u001b[0mdill\u001b[0m\u001b[0;34m.\u001b[0m\u001b[0mdump_session\u001b[0m\u001b[0;34m(\u001b[0m\u001b[0mfilename\u001b[0m\u001b[0;34m)\u001b[0m\u001b[0;34m\u001b[0m\u001b[0m\n\u001b[0m",
      "\u001b[0;32m/Users/kwonoh/anaconda2/lib/python2.7/site-packages/dill/_dill.pyc\u001b[0m in \u001b[0;36mdump_session\u001b[0;34m(filename, main, byref)\u001b[0m\n\u001b[1;32m    387\u001b[0m         \u001b[0mpickler\u001b[0m\u001b[0;34m.\u001b[0m\u001b[0m_recurse\u001b[0m \u001b[0;34m=\u001b[0m \u001b[0mFalse\u001b[0m \u001b[0;31m# disable pickling recursion for globals\u001b[0m\u001b[0;34m\u001b[0m\u001b[0m\n\u001b[1;32m    388\u001b[0m         \u001b[0mpickler\u001b[0m\u001b[0;34m.\u001b[0m\u001b[0m_session\u001b[0m \u001b[0;34m=\u001b[0m \u001b[0mTrue\u001b[0m  \u001b[0;31m# is best indicator of when pickling a session\u001b[0m\u001b[0;34m\u001b[0m\u001b[0m\n\u001b[0;32m--> 389\u001b[0;31m         \u001b[0mpickler\u001b[0m\u001b[0;34m.\u001b[0m\u001b[0mdump\u001b[0m\u001b[0;34m(\u001b[0m\u001b[0mmain\u001b[0m\u001b[0;34m)\u001b[0m\u001b[0;34m\u001b[0m\u001b[0m\n\u001b[0m\u001b[1;32m    390\u001b[0m     \u001b[0;32mfinally\u001b[0m\u001b[0;34m:\u001b[0m\u001b[0;34m\u001b[0m\u001b[0m\n\u001b[1;32m    391\u001b[0m         \u001b[0mf\u001b[0m\u001b[0;34m.\u001b[0m\u001b[0mclose\u001b[0m\u001b[0;34m(\u001b[0m\u001b[0;34m)\u001b[0m\u001b[0;34m\u001b[0m\u001b[0m\n",
      "\u001b[0;32m/Users/kwonoh/anaconda2/lib/python2.7/pickle.pyc\u001b[0m in \u001b[0;36mdump\u001b[0;34m(self, obj)\u001b[0m\n\u001b[1;32m    222\u001b[0m         \u001b[0;32mif\u001b[0m \u001b[0mself\u001b[0m\u001b[0;34m.\u001b[0m\u001b[0mproto\u001b[0m \u001b[0;34m>=\u001b[0m \u001b[0;36m2\u001b[0m\u001b[0;34m:\u001b[0m\u001b[0;34m\u001b[0m\u001b[0m\n\u001b[1;32m    223\u001b[0m             \u001b[0mself\u001b[0m\u001b[0;34m.\u001b[0m\u001b[0mwrite\u001b[0m\u001b[0;34m(\u001b[0m\u001b[0mPROTO\u001b[0m \u001b[0;34m+\u001b[0m \u001b[0mchr\u001b[0m\u001b[0;34m(\u001b[0m\u001b[0mself\u001b[0m\u001b[0;34m.\u001b[0m\u001b[0mproto\u001b[0m\u001b[0;34m)\u001b[0m\u001b[0;34m)\u001b[0m\u001b[0;34m\u001b[0m\u001b[0m\n\u001b[0;32m--> 224\u001b[0;31m         \u001b[0mself\u001b[0m\u001b[0;34m.\u001b[0m\u001b[0msave\u001b[0m\u001b[0;34m(\u001b[0m\u001b[0mobj\u001b[0m\u001b[0;34m)\u001b[0m\u001b[0;34m\u001b[0m\u001b[0m\n\u001b[0m\u001b[1;32m    225\u001b[0m         \u001b[0mself\u001b[0m\u001b[0;34m.\u001b[0m\u001b[0mwrite\u001b[0m\u001b[0;34m(\u001b[0m\u001b[0mSTOP\u001b[0m\u001b[0;34m)\u001b[0m\u001b[0;34m\u001b[0m\u001b[0m\n\u001b[1;32m    226\u001b[0m \u001b[0;34m\u001b[0m\u001b[0m\n",
      "\u001b[0;32m/Users/kwonoh/anaconda2/lib/python2.7/pickle.pyc\u001b[0m in \u001b[0;36msave\u001b[0;34m(self, obj)\u001b[0m\n\u001b[1;32m    284\u001b[0m         \u001b[0mf\u001b[0m \u001b[0;34m=\u001b[0m \u001b[0mself\u001b[0m\u001b[0;34m.\u001b[0m\u001b[0mdispatch\u001b[0m\u001b[0;34m.\u001b[0m\u001b[0mget\u001b[0m\u001b[0;34m(\u001b[0m\u001b[0mt\u001b[0m\u001b[0;34m)\u001b[0m\u001b[0;34m\u001b[0m\u001b[0m\n\u001b[1;32m    285\u001b[0m         \u001b[0;32mif\u001b[0m \u001b[0mf\u001b[0m\u001b[0;34m:\u001b[0m\u001b[0;34m\u001b[0m\u001b[0m\n\u001b[0;32m--> 286\u001b[0;31m             \u001b[0mf\u001b[0m\u001b[0;34m(\u001b[0m\u001b[0mself\u001b[0m\u001b[0;34m,\u001b[0m \u001b[0mobj\u001b[0m\u001b[0;34m)\u001b[0m \u001b[0;31m# Call unbound method with explicit self\u001b[0m\u001b[0;34m\u001b[0m\u001b[0m\n\u001b[0m\u001b[1;32m    287\u001b[0m             \u001b[0;32mreturn\u001b[0m\u001b[0;34m\u001b[0m\u001b[0m\n\u001b[1;32m    288\u001b[0m \u001b[0;34m\u001b[0m\u001b[0m\n",
      "\u001b[0;32m/Users/kwonoh/anaconda2/lib/python2.7/site-packages/dill/_dill.pyc\u001b[0m in \u001b[0;36msave_module\u001b[0;34m(pickler, obj)\u001b[0m\n\u001b[1;32m   1258\u001b[0m                 + [\"__builtins__\", \"__loader__\"]]\n\u001b[1;32m   1259\u001b[0m             pickler.save_reduce(_import_module, (obj.__name__,), obj=obj,\n\u001b[0;32m-> 1260\u001b[0;31m                                 state=_main_dict)\n\u001b[0m\u001b[1;32m   1261\u001b[0m             \u001b[0mlog\u001b[0m\u001b[0;34m.\u001b[0m\u001b[0minfo\u001b[0m\u001b[0;34m(\u001b[0m\u001b[0;34m\"# M1\"\u001b[0m\u001b[0;34m)\u001b[0m\u001b[0;34m\u001b[0m\u001b[0m\n\u001b[1;32m   1262\u001b[0m         \u001b[0;32melse\u001b[0m\u001b[0;34m:\u001b[0m\u001b[0;34m\u001b[0m\u001b[0m\n",
      "\u001b[0;32m/Users/kwonoh/anaconda2/lib/python2.7/pickle.pyc\u001b[0m in \u001b[0;36msave_reduce\u001b[0;34m(self, func, args, state, listitems, dictitems, obj)\u001b[0m\n\u001b[1;32m    423\u001b[0m \u001b[0;34m\u001b[0m\u001b[0m\n\u001b[1;32m    424\u001b[0m         \u001b[0;32mif\u001b[0m \u001b[0mstate\u001b[0m \u001b[0;32mis\u001b[0m \u001b[0;32mnot\u001b[0m \u001b[0mNone\u001b[0m\u001b[0;34m:\u001b[0m\u001b[0;34m\u001b[0m\u001b[0m\n\u001b[0;32m--> 425\u001b[0;31m             \u001b[0msave\u001b[0m\u001b[0;34m(\u001b[0m\u001b[0mstate\u001b[0m\u001b[0;34m)\u001b[0m\u001b[0;34m\u001b[0m\u001b[0m\n\u001b[0m\u001b[1;32m    426\u001b[0m             \u001b[0mwrite\u001b[0m\u001b[0;34m(\u001b[0m\u001b[0mBUILD\u001b[0m\u001b[0;34m)\u001b[0m\u001b[0;34m\u001b[0m\u001b[0m\n\u001b[1;32m    427\u001b[0m \u001b[0;34m\u001b[0m\u001b[0m\n",
      "\u001b[0;32m/Users/kwonoh/anaconda2/lib/python2.7/pickle.pyc\u001b[0m in \u001b[0;36msave\u001b[0;34m(self, obj)\u001b[0m\n\u001b[1;32m    284\u001b[0m         \u001b[0mf\u001b[0m \u001b[0;34m=\u001b[0m \u001b[0mself\u001b[0m\u001b[0;34m.\u001b[0m\u001b[0mdispatch\u001b[0m\u001b[0;34m.\u001b[0m\u001b[0mget\u001b[0m\u001b[0;34m(\u001b[0m\u001b[0mt\u001b[0m\u001b[0;34m)\u001b[0m\u001b[0;34m\u001b[0m\u001b[0m\n\u001b[1;32m    285\u001b[0m         \u001b[0;32mif\u001b[0m \u001b[0mf\u001b[0m\u001b[0;34m:\u001b[0m\u001b[0;34m\u001b[0m\u001b[0m\n\u001b[0;32m--> 286\u001b[0;31m             \u001b[0mf\u001b[0m\u001b[0;34m(\u001b[0m\u001b[0mself\u001b[0m\u001b[0;34m,\u001b[0m \u001b[0mobj\u001b[0m\u001b[0;34m)\u001b[0m \u001b[0;31m# Call unbound method with explicit self\u001b[0m\u001b[0;34m\u001b[0m\u001b[0m\n\u001b[0m\u001b[1;32m    287\u001b[0m             \u001b[0;32mreturn\u001b[0m\u001b[0;34m\u001b[0m\u001b[0m\n\u001b[1;32m    288\u001b[0m \u001b[0;34m\u001b[0m\u001b[0m\n",
      "\u001b[0;32m/Users/kwonoh/anaconda2/lib/python2.7/site-packages/dill/_dill.pyc\u001b[0m in \u001b[0;36msave_module_dict\u001b[0;34m(pickler, obj)\u001b[0m\n\u001b[1;32m    891\u001b[0m             \u001b[0;31m# we only care about session the first pass thru\u001b[0m\u001b[0;34m\u001b[0m\u001b[0;34m\u001b[0m\u001b[0m\n\u001b[1;32m    892\u001b[0m             \u001b[0mpickler\u001b[0m\u001b[0;34m.\u001b[0m\u001b[0m_session\u001b[0m \u001b[0;34m=\u001b[0m \u001b[0mFalse\u001b[0m\u001b[0;34m\u001b[0m\u001b[0m\n\u001b[0;32m--> 893\u001b[0;31m         \u001b[0mStockPickler\u001b[0m\u001b[0;34m.\u001b[0m\u001b[0msave_dict\u001b[0m\u001b[0;34m(\u001b[0m\u001b[0mpickler\u001b[0m\u001b[0;34m,\u001b[0m \u001b[0mobj\u001b[0m\u001b[0;34m)\u001b[0m\u001b[0;34m\u001b[0m\u001b[0m\n\u001b[0m\u001b[1;32m    894\u001b[0m         \u001b[0mlog\u001b[0m\u001b[0;34m.\u001b[0m\u001b[0minfo\u001b[0m\u001b[0;34m(\u001b[0m\u001b[0;34m\"# D2\"\u001b[0m\u001b[0;34m)\u001b[0m\u001b[0;34m\u001b[0m\u001b[0m\n\u001b[1;32m    895\u001b[0m     \u001b[0;32mreturn\u001b[0m\u001b[0;34m\u001b[0m\u001b[0m\n",
      "\u001b[0;32m/Users/kwonoh/anaconda2/lib/python2.7/pickle.pyc\u001b[0m in \u001b[0;36msave_dict\u001b[0;34m(self, obj)\u001b[0m\n\u001b[1;32m    653\u001b[0m \u001b[0;34m\u001b[0m\u001b[0m\n\u001b[1;32m    654\u001b[0m         \u001b[0mself\u001b[0m\u001b[0;34m.\u001b[0m\u001b[0mmemoize\u001b[0m\u001b[0;34m(\u001b[0m\u001b[0mobj\u001b[0m\u001b[0;34m)\u001b[0m\u001b[0;34m\u001b[0m\u001b[0m\n\u001b[0;32m--> 655\u001b[0;31m         \u001b[0mself\u001b[0m\u001b[0;34m.\u001b[0m\u001b[0m_batch_setitems\u001b[0m\u001b[0;34m(\u001b[0m\u001b[0mobj\u001b[0m\u001b[0;34m.\u001b[0m\u001b[0miteritems\u001b[0m\u001b[0;34m(\u001b[0m\u001b[0;34m)\u001b[0m\u001b[0;34m)\u001b[0m\u001b[0;34m\u001b[0m\u001b[0m\n\u001b[0m\u001b[1;32m    656\u001b[0m \u001b[0;34m\u001b[0m\u001b[0m\n\u001b[1;32m    657\u001b[0m     \u001b[0mdispatch\u001b[0m\u001b[0;34m[\u001b[0m\u001b[0mDictionaryType\u001b[0m\u001b[0;34m]\u001b[0m \u001b[0;34m=\u001b[0m \u001b[0msave_dict\u001b[0m\u001b[0;34m\u001b[0m\u001b[0m\n",
      "\u001b[0;32m/Users/kwonoh/anaconda2/lib/python2.7/pickle.pyc\u001b[0m in \u001b[0;36m_batch_setitems\u001b[0;34m(self, items)\u001b[0m\n\u001b[1;32m    685\u001b[0m                 \u001b[0;32mfor\u001b[0m \u001b[0mk\u001b[0m\u001b[0;34m,\u001b[0m \u001b[0mv\u001b[0m \u001b[0;32min\u001b[0m \u001b[0mtmp\u001b[0m\u001b[0;34m:\u001b[0m\u001b[0;34m\u001b[0m\u001b[0m\n\u001b[1;32m    686\u001b[0m                     \u001b[0msave\u001b[0m\u001b[0;34m(\u001b[0m\u001b[0mk\u001b[0m\u001b[0;34m)\u001b[0m\u001b[0;34m\u001b[0m\u001b[0m\n\u001b[0;32m--> 687\u001b[0;31m                     \u001b[0msave\u001b[0m\u001b[0;34m(\u001b[0m\u001b[0mv\u001b[0m\u001b[0;34m)\u001b[0m\u001b[0;34m\u001b[0m\u001b[0m\n\u001b[0m\u001b[1;32m    688\u001b[0m                 \u001b[0mwrite\u001b[0m\u001b[0;34m(\u001b[0m\u001b[0mSETITEMS\u001b[0m\u001b[0;34m)\u001b[0m\u001b[0;34m\u001b[0m\u001b[0m\n\u001b[1;32m    689\u001b[0m             \u001b[0;32melif\u001b[0m \u001b[0mn\u001b[0m\u001b[0;34m:\u001b[0m\u001b[0;34m\u001b[0m\u001b[0m\n",
      "\u001b[0;32m/Users/kwonoh/anaconda2/lib/python2.7/pickle.pyc\u001b[0m in \u001b[0;36msave\u001b[0;34m(self, obj)\u001b[0m\n\u001b[1;32m    329\u001b[0m \u001b[0;34m\u001b[0m\u001b[0m\n\u001b[1;32m    330\u001b[0m         \u001b[0;31m# Save the reduce() output and finally memoize the object\u001b[0m\u001b[0;34m\u001b[0m\u001b[0;34m\u001b[0m\u001b[0m\n\u001b[0;32m--> 331\u001b[0;31m         \u001b[0mself\u001b[0m\u001b[0;34m.\u001b[0m\u001b[0msave_reduce\u001b[0m\u001b[0;34m(\u001b[0m\u001b[0mobj\u001b[0m\u001b[0;34m=\u001b[0m\u001b[0mobj\u001b[0m\u001b[0;34m,\u001b[0m \u001b[0;34m*\u001b[0m\u001b[0mrv\u001b[0m\u001b[0;34m)\u001b[0m\u001b[0;34m\u001b[0m\u001b[0m\n\u001b[0m\u001b[1;32m    332\u001b[0m \u001b[0;34m\u001b[0m\u001b[0m\n\u001b[1;32m    333\u001b[0m     \u001b[0;32mdef\u001b[0m \u001b[0mpersistent_id\u001b[0m\u001b[0;34m(\u001b[0m\u001b[0mself\u001b[0m\u001b[0;34m,\u001b[0m \u001b[0mobj\u001b[0m\u001b[0;34m)\u001b[0m\u001b[0;34m:\u001b[0m\u001b[0;34m\u001b[0m\u001b[0m\n",
      "\u001b[0;32m/Users/kwonoh/anaconda2/lib/python2.7/pickle.pyc\u001b[0m in \u001b[0;36msave_reduce\u001b[0;34m(self, func, args, state, listitems, dictitems, obj)\u001b[0m\n\u001b[1;32m    394\u001b[0m                     \"args[0] from __newobj__ args has the wrong class\")\n\u001b[1;32m    395\u001b[0m             \u001b[0margs\u001b[0m \u001b[0;34m=\u001b[0m \u001b[0margs\u001b[0m\u001b[0;34m[\u001b[0m\u001b[0;36m1\u001b[0m\u001b[0;34m:\u001b[0m\u001b[0;34m]\u001b[0m\u001b[0;34m\u001b[0m\u001b[0m\n\u001b[0;32m--> 396\u001b[0;31m             \u001b[0msave\u001b[0m\u001b[0;34m(\u001b[0m\u001b[0mcls\u001b[0m\u001b[0;34m)\u001b[0m\u001b[0;34m\u001b[0m\u001b[0m\n\u001b[0m\u001b[1;32m    397\u001b[0m             \u001b[0msave\u001b[0m\u001b[0;34m(\u001b[0m\u001b[0margs\u001b[0m\u001b[0;34m)\u001b[0m\u001b[0;34m\u001b[0m\u001b[0m\n\u001b[1;32m    398\u001b[0m             \u001b[0mwrite\u001b[0m\u001b[0;34m(\u001b[0m\u001b[0mNEWOBJ\u001b[0m\u001b[0;34m)\u001b[0m\u001b[0;34m\u001b[0m\u001b[0m\n",
      "\u001b[0;32m/Users/kwonoh/anaconda2/lib/python2.7/pickle.pyc\u001b[0m in \u001b[0;36msave\u001b[0;34m(self, obj)\u001b[0m\n\u001b[1;32m    284\u001b[0m         \u001b[0mf\u001b[0m \u001b[0;34m=\u001b[0m \u001b[0mself\u001b[0m\u001b[0;34m.\u001b[0m\u001b[0mdispatch\u001b[0m\u001b[0;34m.\u001b[0m\u001b[0mget\u001b[0m\u001b[0;34m(\u001b[0m\u001b[0mt\u001b[0m\u001b[0;34m)\u001b[0m\u001b[0;34m\u001b[0m\u001b[0m\n\u001b[1;32m    285\u001b[0m         \u001b[0;32mif\u001b[0m \u001b[0mf\u001b[0m\u001b[0;34m:\u001b[0m\u001b[0;34m\u001b[0m\u001b[0m\n\u001b[0;32m--> 286\u001b[0;31m             \u001b[0mf\u001b[0m\u001b[0;34m(\u001b[0m\u001b[0mself\u001b[0m\u001b[0;34m,\u001b[0m \u001b[0mobj\u001b[0m\u001b[0;34m)\u001b[0m \u001b[0;31m# Call unbound method with explicit self\u001b[0m\u001b[0;34m\u001b[0m\u001b[0m\n\u001b[0m\u001b[1;32m    287\u001b[0m             \u001b[0;32mreturn\u001b[0m\u001b[0;34m\u001b[0m\u001b[0m\n\u001b[1;32m    288\u001b[0m \u001b[0;34m\u001b[0m\u001b[0m\n",
      "\u001b[0;32m/Users/kwonoh/anaconda2/lib/python2.7/site-packages/dill/_dill.pyc\u001b[0m in \u001b[0;36msave_type\u001b[0;34m(pickler, obj)\u001b[0m\n\u001b[1;32m   1319\u001b[0m        \u001b[0;31m#print (\"%s\\n%s\" % (type(obj), obj.__name__))\u001b[0m\u001b[0;34m\u001b[0m\u001b[0;34m\u001b[0m\u001b[0m\n\u001b[1;32m   1320\u001b[0m        \u001b[0;31m#print (\"%s\\n%s\" % (obj.__bases__, obj.__dict__))\u001b[0m\u001b[0;34m\u001b[0m\u001b[0;34m\u001b[0m\u001b[0m\n\u001b[0;32m-> 1321\u001b[0;31m         \u001b[0mStockPickler\u001b[0m\u001b[0;34m.\u001b[0m\u001b[0msave_global\u001b[0m\u001b[0;34m(\u001b[0m\u001b[0mpickler\u001b[0m\u001b[0;34m,\u001b[0m \u001b[0mobj\u001b[0m\u001b[0;34m)\u001b[0m\u001b[0;34m\u001b[0m\u001b[0m\n\u001b[0m\u001b[1;32m   1322\u001b[0m         \u001b[0mlog\u001b[0m\u001b[0;34m.\u001b[0m\u001b[0minfo\u001b[0m\u001b[0;34m(\u001b[0m\u001b[0;34m\"# T4\"\u001b[0m\u001b[0;34m)\u001b[0m\u001b[0;34m\u001b[0m\u001b[0m\n\u001b[1;32m   1323\u001b[0m     \u001b[0;32mreturn\u001b[0m\u001b[0;34m\u001b[0m\u001b[0m\n",
      "\u001b[0;32m/Users/kwonoh/anaconda2/lib/python2.7/pickle.pyc\u001b[0m in \u001b[0;36msave_global\u001b[0;34m(self, obj, name, pack)\u001b[0m\n\u001b[1;32m    757\u001b[0m                 raise PicklingError(\n\u001b[1;32m    758\u001b[0m                     \u001b[0;34m\"Can't pickle %r: it's not the same object as %s.%s\"\u001b[0m \u001b[0;34m%\u001b[0m\u001b[0;34m\u001b[0m\u001b[0m\n\u001b[0;32m--> 759\u001b[0;31m                     (obj, module, name))\n\u001b[0m\u001b[1;32m    760\u001b[0m \u001b[0;34m\u001b[0m\u001b[0m\n\u001b[1;32m    761\u001b[0m         \u001b[0;32mif\u001b[0m \u001b[0mself\u001b[0m\u001b[0;34m.\u001b[0m\u001b[0mproto\u001b[0m \u001b[0;34m>=\u001b[0m \u001b[0;36m2\u001b[0m\u001b[0;34m:\u001b[0m\u001b[0;34m\u001b[0m\u001b[0m\n",
      "\u001b[0;31mPicklingError\u001b[0m: Can't pickle <type 'cv2.VideoCapture'>: it's not the same object as cv2.VideoCapture"
     ]
    }
   ],
   "source": [
    "n = 0\n",
    "for filename in lsFilename:\n",
    "    print filename\n",
    "    cap = cv2.VideoCapture(filename)\n",
    "    if (cap.isOpened()== False): \n",
    "        print(\"Error opening video stream or file\")\n",
    "        continue\n",
    "\n",
    "    w = int(cap.get(cv2.CAP_PROP_FRAME_WIDTH))\n",
    "    h = int(cap.get(cv2.CAP_PROP_FRAME_HEIGHT))\n",
    "    \n",
    "    while(cap.isOpened()):\n",
    "        ret, frame = cap.read()\n",
    "        if ret == True:\n",
    "            gray = cv2.cvtColor(frame,cv2.COLOR_BGR2GRAY)\n",
    "            find, corners = cv2.findChessboardCorners(gray, nCorners, None)\n",
    "            n += 1\n",
    "            print n,\n",
    "            if find and (corners.reshape((-1,2)).max(0) - corners.reshape((-1,2)).min(0)).min() > 200:\n",
    "                valid_frames.append(frame)\n",
    "                valid_grays.append(gray)\n",
    "                valid_corners.append(corners)\n",
    "                print \"find!\", len(valid_frames),\n",
    "\n",
    "            \n",
    "        else: \n",
    "            break\n",
    "    cap.release()\n",
    "\n",
    "nFrame = len(valid_frames)\n",
    "print \n",
    "print \"Detected %d frames\" % nFrame\n",
    "\n",
    "filename = 'globalsave1.pkl'\n",
    "dill.dump_session(filename)\n"
   ]
  },
  {
   "cell_type": "code",
   "execution_count": 4,
   "metadata": {
    "collapsed": true
   },
   "outputs": [],
   "source": [
    "# import cv2\n",
    "# import numpy as np\n",
    "# from collections import deque\n",
    "# import pickle\n",
    "# import dill\n",
    "\n",
    "# filename = 'globalsave1.pkl'\n",
    "# dill.load_session(filename)\n"
   ]
  },
  {
   "cell_type": "code",
   "execution_count": 4,
   "metadata": {
    "scrolled": true
   },
   "outputs": [
    {
     "name": "stdout",
     "output_type": "stream",
     "text": [
      "100\n",
      "frame  1 frame  2 frame  3 frame  4 frame  6 frame  9 frame  10 frame  12 frame  16 frame  17 frame  21 frame  24 frame  25 frame  26 frame  27 frame  28 frame  29 frame  30 frame  31 frame  32 frame  33 frame  37 frame  39 frame  40 frame  41 frame  42 frame  43 frame  46 frame  47 frame  48 frame  49 frame  50 frame  51 frame  53 frame  54 frame  55 frame  58 frame  60 frame  64 frame  66 frame  67 frame  68 frame  69 frame  71 frame  72 frame  74 frame  75 frame  76 frame  77 frame  78 frame  79 frame  80 frame  82 frame  84 frame  87 frame  88 frame  89 frame  90 frame  92 frame  93 frame  94 frame  96 frame  97 frame  98 frame  99 frame  102 frame  104 frame  107 frame  109 frame  111 frame  112 frame  114 frame  117 frame  119 frame  120 frame  121 frame  122 frame  127 frame  130 frame  131 frame  132 frame  133 frame  134 frame  135 frame  136 frame  139 frame  141 frame  142 frame  145 frame  146 frame  148 frame  150 frame  152 frame  153 frame  154 frame  155 frame  156 frame  157 frame  158 frame  159\n",
      "[[  1.32289367e+03   0.00000000e+00   7.32394468e+02]\n",
      " [  0.00000000e+00   1.29954670e+03   5.18748971e+02]\n",
      " [  0.00000000e+00   0.00000000e+00   1.00000000e+00]]\n",
      "[[ 0.04540241 -0.17967721  0.00754279  0.0207605   0.17014318]]\n",
      "100\n",
      "100\n",
      "100\n"
     ]
    },
    {
     "ename": "NameError",
     "evalue": "name 'outfile' is not defined",
     "output_type": "error",
     "traceback": [
      "\u001b[0;31m---------------------------------------------------------------------------\u001b[0m",
      "\u001b[0;31mNameError\u001b[0m                                 Traceback (most recent call last)",
      "\u001b[0;32m<ipython-input-4-3e7cd5c10dda>\u001b[0m in \u001b[0;36m<module>\u001b[0;34m()\u001b[0m\n\u001b[1;32m     39\u001b[0m \u001b[0;32mprint\u001b[0m \u001b[0mlen\u001b[0m\u001b[0;34m(\u001b[0m\u001b[0mtvecs\u001b[0m\u001b[0;34m)\u001b[0m\u001b[0;34m\u001b[0m\u001b[0m\n\u001b[1;32m     40\u001b[0m \u001b[0;34m\u001b[0m\u001b[0m\n\u001b[0;32m---> 41\u001b[0;31m \u001b[0mnp\u001b[0m\u001b[0;34m.\u001b[0m\u001b[0msavetxt\u001b[0m\u001b[0;34m(\u001b[0m\u001b[0moutfile\u001b[0m\u001b[0;34m,\u001b[0m \u001b[0mnp\u001b[0m\u001b[0;34m.\u001b[0m\u001b[0mappend\u001b[0m\u001b[0;34m(\u001b[0m\u001b[0mmtx\u001b[0m\u001b[0;34m,\u001b[0m \u001b[0mdist\u001b[0m\u001b[0;34m)\u001b[0m\u001b[0;34m)\u001b[0m\u001b[0;34m\u001b[0m\u001b[0m\n\u001b[0m\u001b[1;32m     42\u001b[0m \u001b[0;34m\u001b[0m\u001b[0m\n\u001b[1;32m     43\u001b[0m \u001b[0mfilename\u001b[0m \u001b[0;34m=\u001b[0m \u001b[0;34m'globalsave2.pkl'\u001b[0m\u001b[0;34m\u001b[0m\u001b[0m\n",
      "\u001b[0;31mNameError\u001b[0m: name 'outfile' is not defined"
     ]
    }
   ],
   "source": [
    "delay = 150\n",
    "if nFrame <= nFrame4calib:\n",
    "    idxs = range(nFrame)\n",
    "else:\n",
    "    if bRandomSample:\n",
    "        idxs = np.sort(np.random.choice(nFrame, nFrame4calib, replace=False)).tolist()\n",
    "    else:\n",
    "        idxs = np.linspace(0,nFrame-1,nFrame4calib).astype(int).tolist()\n",
    "# idxs = range(0,len(valid_frames),3)\n",
    "\n",
    "print len(idxs)\n",
    "for idx in idxs:\n",
    "    print \"frame \",idx, \n",
    "    frame = valid_frames[idx]\n",
    "    gray = valid_grays[idx]\n",
    "    corners = valid_corners[idx]\n",
    "\n",
    "    objpoints.append(objp)\n",
    "    corners = cv2.cornerSubPix(gray,corners,(11,11),(-1,-1),criteria)\n",
    "    imgpoints.append(corners)\n",
    "    cv2.drawChessboardCorners(frame, nCorners, corners, find)\n",
    "    frames.append(frame) \n",
    "    if bShow:\n",
    "        cv2.imshow('Frame',frame)\n",
    "        if cv2.waitKey(delay) & 0xFF == ord('q'):\n",
    "            break\n",
    "print\n",
    "\n",
    "cv2.destroyAllWindows()\n",
    "\n",
    "cali_ret, mtx, dist, rvecs, tvecs = cv2.calibrateCamera(objpoints, imgpoints, gray.shape[::-1],None,None)\n",
    "newcameramtx, roi=cv2.getOptimalNewCameraMatrix(mtx,dist,(w,h),1,(w,h))\n",
    "\n",
    "print mtx\n",
    "print dist\n",
    "\n",
    "print len(idxs)\n",
    "print len(rvecs)\n",
    "print len(tvecs)\n",
    "\n",
    "np.savetxt(outfile, np.append(mtx, dist))\n",
    "\n",
    "# filename = 'globalsave2.pkl'\n",
    "# dill.dump_session(filename)\n"
   ]
  },
  {
   "cell_type": "code",
   "execution_count": 5,
   "metadata": {},
   "outputs": [],
   "source": [
    "np.savetxt('out.txt', np.append(mtx, dist))"
   ]
  },
  {
   "cell_type": "code",
   "execution_count": null,
   "metadata": {},
   "outputs": [],
   "source": []
  },
  {
   "cell_type": "code",
   "execution_count": 12,
   "metadata": {
    "collapsed": true
   },
   "outputs": [],
   "source": [
    "# import cv2\n",
    "# import numpy as np\n",
    "# from collections import deque\n",
    "# import pickle\n",
    "# import dill\n",
    "\n",
    "# filename = 'globalsave2.pkl'\n",
    "# dill.load_session(filename)\n",
    "# np.savetxt('out.txt', np.append(mtx, dist))"
   ]
  },
  {
   "cell_type": "code",
   "execution_count": 6,
   "metadata": {},
   "outputs": [
    {
     "name": "stdout",
     "output_type": "stream",
     "text": [
      "17\n",
      "frame  0\n",
      "frame  10\n",
      "frame  20\n",
      "frame  30\n",
      "frame  40\n",
      "frame  50\n",
      "frame  60\n",
      "frame  70\n",
      "frame  80\n",
      "frame  90\n",
      "frame  100\n",
      "frame  110\n",
      "frame  120\n",
      "frame  130\n",
      "frame  140\n",
      "frame  150\n",
      "frame  160\n"
     ]
    }
   ],
   "source": [
    "idxs_test = range(0,len(valid_frames),10)\n",
    "\n",
    "######################### test ##########\n",
    "objpoints_test = [] # 3d point in real world space\n",
    "imgpoints_test = [] # 2d points in image plane.\n",
    "frames_test = []\n",
    "print len(idxs_test)\n",
    "for idx in idxs_test:\n",
    "    print \"frame \",idx\n",
    "    frame = valid_frames[idx]\n",
    "    gray = valid_grays[idx]\n",
    "    corners = valid_corners[idx]\n",
    "\n",
    "    objpoints_test.append(objp)\n",
    "    corners = cv2.cornerSubPix(gray,corners,(11,11),(-1,-1),criteria)\n",
    "    imgpoints_test.append(corners)\n",
    "    cv2.drawChessboardCorners(frame, nCorners, corners, find)\n",
    "    frames_test.append(frame) \n",
    "    # if bShow:\n",
    "    #     cv2.imshow('Frame',frame)\n",
    "    #     if cv2.waitKey(delay) & 0xFF == ord('q'):\n",
    "    #         break\n",
    "\n",
    "cv2.destroyAllWindows()\n",
    "\n",
    "\n",
    "cali_ret, _, _, rvecs_test, tvecs_test = cv2.calibrateCamera(objpoints_test, imgpoints_test, \n",
    "                                                             gray.shape[::-1], mtx, dist)\n",
    "\n",
    "\n"
   ]
  },
  {
   "cell_type": "code",
   "execution_count": 7,
   "metadata": {},
   "outputs": [
    {
     "name": "stdout",
     "output_type": "stream",
     "text": [
      "total error:  0.0291172612843\n"
     ]
    }
   ],
   "source": [
    "bShow = True\n",
    "delay = 500\n",
    "\n",
    "\n",
    "tot_error = 0\n",
    "tot_error_undist = 0\n",
    "mean_error = 0\n",
    "\n",
    "\n",
    "def MyProjection(objp, rvec, tvec, mtx, dst):\n",
    "    rot, _ = cv2.Rodrigues(rvec)\n",
    "    imgp = np.dot(rot,objp.T) + tvec\n",
    "    imgp = imgp / imgp[2,:]\n",
    "\n",
    "    x = imgp[0,:]\n",
    "    y = imgp[1,:]\n",
    "    \n",
    "    r = np.sqrt(x**2 + y**2)\n",
    "\n",
    "    k1, k2, p1, p2, k3 = dst\n",
    "    c = (1 + k1*r**2 + k2*r**4 + k3*r**6)/(1)\n",
    "    x_new = c*x + 2*p1*x*y + p2*(r**2 + 2*x**2)\n",
    "    y_new = c*y + p1*(r**2 + 2*y**2) + 2*p2*x*y\n",
    "\n",
    "    imgp[0,:]= x_new\n",
    "    imgp[1,:]= y_new\n",
    "    \n",
    "\n",
    "    imgp = np.dot(mtx,imgp)[:2,:].T.astype(objp.dtype)\n",
    "    return imgp\n",
    "\n",
    "\n",
    "# for frame, rvec, tvec, corners, objp in zip(frames_test, rvecs_test, tvecs_test, imgpoints_test, objpoints_test):\n",
    "for i in range(len(frames_test)):\n",
    "    frame, rvec, tvec, corners, objp = frames_test[i], rvecs_test[i], tvecs_test[i], imgpoints_test[i], objpoints_test[i]\n",
    "    imgp1 = MyProjection(objp, rvec, tvec, mtx, dist[0])\n",
    "    # imgpoints1, _ = cv2.projectPoints(objp, rvec, tvec, mtx, dist)\n",
    "    # print cv2.norm(imgpoints1.reshape(imgp1.shape), imgp1, cv2.NORM_L2)\n",
    "    \n",
    "    for p in imgp1:\n",
    "        cv2.circle(frame, tuple(p.astype(int)), 1, (0,0,255), 3)\n",
    "\n",
    "    tot_error += cv2.norm(corners,imgp1.reshape(corners.shape), cv2.NORM_L2)/len(imgp1)\n",
    "\n",
    "    if bShow:\n",
    "        cv2.imshow('Frame',frame)\n",
    "        # cv2.imshow('Dst',dst)\n",
    "        if cv2.waitKey(delay) & 0xFF == ord('q'):\n",
    "           break\n",
    "\n",
    "print \"total error: \", tot_error/len(objpoints)\n",
    "\n",
    "\n",
    "\n",
    "\n",
    "\n",
    "\n"
   ]
  },
  {
   "cell_type": "code",
   "execution_count": null,
   "metadata": {
    "collapsed": true
   },
   "outputs": [],
   "source": []
  },
  {
   "cell_type": "code",
   "execution_count": null,
   "metadata": {
    "collapsed": true
   },
   "outputs": [],
   "source": []
  },
  {
   "cell_type": "code",
   "execution_count": null,
   "metadata": {
    "collapsed": true
   },
   "outputs": [],
   "source": []
  }
 ],
 "metadata": {
  "anaconda-cloud": {},
  "kernelspec": {
   "display_name": "Python 2",
   "language": "python",
   "name": "python2"
  },
  "language_info": {
   "codemirror_mode": {
    "name": "ipython",
    "version": 2
   },
   "file_extension": ".py",
   "mimetype": "text/x-python",
   "name": "python",
   "nbconvert_exporter": "python",
   "pygments_lexer": "ipython2",
   "version": "2.7.15"
  }
 },
 "nbformat": 4,
 "nbformat_minor": 2
}
